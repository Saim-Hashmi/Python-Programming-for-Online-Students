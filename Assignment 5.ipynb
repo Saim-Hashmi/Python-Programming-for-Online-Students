{
 "cells": [
  {
   "cell_type": "code",
   "execution_count": 1,
   "metadata": {},
   "outputs": [
    {
     "name": "stdout",
     "output_type": "stream",
     "text": [
      "Enter number 5\n",
      "10\n"
     ]
    }
   ],
   "source": [
    "#Write a Python function to calculate the factorial of a number (a non-negative\n",
    "#integer). The function accepts the number as an argument.\n",
    "\n",
    "def factorial(num):\n",
    "    i = 1\n",
    "    temp = 0\n",
    "    while num > i:\n",
    "        temp = temp + i\n",
    "        i = i + 1\n",
    "    print(temp)\n",
    "\n",
    "\n",
    "num = int(input(\"Enter number \"))\n",
    "factorial(num)"
   ]
  },
  {
   "cell_type": "code",
   "execution_count": 2,
   "metadata": {},
   "outputs": [
    {
     "name": "stdout",
     "output_type": "stream",
     "text": [
      "Enter Text Muhammad Saim Hashmi\n",
      "Capital Characters are 3 and Small Character are 15\n"
     ]
    }
   ],
   "source": [
    "#Write a Python function that accepts a string and calculate the number of upper\n",
    "#case letters and lower case letters.\n",
    "\n",
    "def case(strInput):\n",
    "    cap = sum(1 for c in strInput if c.isupper())\n",
    "    low = sum(1 for c in strInput if c.islower())\n",
    "    print(\"Capital Characters are {} and Small Character are {}\".format(cap,low))\n",
    "    \n",
    "strInput = input(\"Enter Text \")\n",
    "case(strInput)"
   ]
  },
  {
   "cell_type": "code",
   "execution_count": 3,
   "metadata": {},
   "outputs": [
    {
     "name": "stdout",
     "output_type": "stream",
     "text": [
      "2\n",
      "4\n",
      "6\n",
      "8\n"
     ]
    }
   ],
   "source": [
    "#Write a Python function to print the even numbers from a given list.\n",
    "\n",
    "def even(myList):\n",
    "    for item in myList:\n",
    "        if item % 2 == 0:\n",
    "            print(item)\n",
    "        \n",
    "\n",
    "mylist = [1,2,3,4,5,6,7,8]\n",
    "even(mylist)"
   ]
  },
  {
   "cell_type": "code",
   "execution_count": 4,
   "metadata": {},
   "outputs": [
    {
     "name": "stdout",
     "output_type": "stream",
     "text": [
      "Enter any text dad\n",
      "The string is a palindrome.\n"
     ]
    }
   ],
   "source": [
    "#Write a Python function that checks whether a passed string is palindrome or not\n",
    "\n",
    "def palindrome(my_str):\n",
    "    my_str = my_str.casefold()\n",
    "    rev_str = reversed(my_str)\n",
    "    if list(my_str) == list(rev_str):\n",
    "       print(\"The string is a palindrome.\")\n",
    "    else:\n",
    "       print(\"The string is not a palindrome.\")\n",
    "\n",
    "\n",
    "my_str = input(\"Enter any text \")\n",
    "palindrome(my_str)"
   ]
  },
  {
   "cell_type": "code",
   "execution_count": 5,
   "metadata": {},
   "outputs": [
    {
     "name": "stdout",
     "output_type": "stream",
     "text": [
      "Enter number 7\n",
      "7 is a prime number\n"
     ]
    }
   ],
   "source": [
    "#Write a Python function that takes a number as a parameter and check the\n",
    "#number is prime or not.\n",
    "\n",
    "num = int(input(\"Enter number \"))\n",
    "\n",
    "def prime(num):\n",
    "    if num > 1:\n",
    "       for i in range(2,num):\n",
    "           if (num % i) == 0:\n",
    "               print(num,\"is not a prime number\")\n",
    "               break\n",
    "       else:\n",
    "           print(num,\"is a prime number\")   \n",
    "    else:\n",
    "       print(num,\"is not a prime number\")\n",
    "\n",
    "prime(num)"
   ]
  },
  {
   "cell_type": "code",
   "execution_count": 6,
   "metadata": {},
   "outputs": [
    {
     "name": "stdout",
     "output_type": "stream",
     "text": [
      "\n",
      "Customer#1:\n",
      "==========\n",
      "Apple\n",
      "Orange\n",
      "Banana\n",
      "Apple\n",
      "Grapes\n",
      "\n",
      "Customer#2:\n",
      "==========\n",
      "Eggs\n",
      "Meat\n",
      "\n",
      "Customer#3:\n",
      "==========\n",
      "Fish\n",
      "Tomato\n",
      "lemon\n",
      "peach\n",
      "eggs\n",
      "chicken\n",
      "beaf\n",
      "cucumber\n"
     ]
    }
   ],
   "source": [
    "#Suppose a customer is shopping in a market and you need to print all the items\n",
    "#which user bought from market.\n",
    "#Write a function which accepts the multiple arguments of user shopping list and\n",
    "#print all the items which user bought from market.\n",
    "#(Hint: Arbitrary Argument concept can make this task ease)\n",
    "\n",
    "def printItems(*items):\n",
    "   for item in items:\n",
    "       print(item)\n",
    "\n",
    "printItems(\"\\nCustomer#1:\\n==========\",\"Apple\",\"Orange\",\"Banana\",\"Apple\",\"Grapes\")\n",
    "printItems(\"\\nCustomer#2:\\n==========\",\"Eggs\",\"Meat\")\n",
    "printItems(\"\\nCustomer#3:\\n==========\",\"Fish\",\"Tomato\",\"lemon\",\"peach\",\"eggs\",\"chicken\",\"beaf\",\"cucumber\")"
   ]
  },
  {
   "cell_type": "code",
   "execution_count": 7,
   "metadata": {},
   "outputs": [
    {
     "name": "stdout",
     "output_type": "stream",
     "text": [
      "Select any one of following\n",
      "1. Add ToDo item.\n",
      "2. Delete 1 item\n",
      "3. Delete All\n",
      "1\n",
      "Enter ToDo things... Take Tea\n",
      "Item inserted\n",
      "1 : Take Tea\n",
      "Do you want to quit? type quit/no no\n",
      "Select any one of following\n",
      "1. Add ToDo item.\n",
      "2. Delete 1 item\n",
      "3. Delete All\n",
      "1\n",
      "Enter ToDo things... Feed Birds\n",
      "Item inserted\n",
      "1 : Take Tea\n",
      "2 : Feed Birds\n",
      "Do you want to quit? type quit/no no\n",
      "Select any one of following\n",
      "1. Add ToDo item.\n",
      "2. Delete 1 item\n",
      "3. Delete All\n",
      "1\n",
      "Enter ToDo things... Feed Fishes\n",
      "Item inserted\n",
      "1 : Take Tea\n",
      "2 : Feed Birds\n",
      "3 : Feed Fishes\n",
      "Do you want to quit? type quit/no no\n",
      "Select any one of following\n",
      "1. Add ToDo item.\n",
      "2. Delete 1 item\n",
      "3. Delete All\n",
      "2\n",
      "Enter ToDo Item Number You Want To Delete 2\n",
      "Item deleted\n",
      "1 : Take Tea\n",
      "3 : Feed Fishes\n",
      "Do you want to quit? type quit/no no\n",
      "Select any one of following\n",
      "1. Add ToDo item.\n",
      "2. Delete 1 item\n",
      "3. Delete All\n",
      "3\n",
      "All Items Deleted\n",
      "Do you want to quit? type quit/no yes\n",
      "Select any one of following\n",
      "1. Add ToDo item.\n",
      "2. Delete 1 item\n",
      "3. Delete All\n",
      "4\n",
      "Invalid Input\n",
      "Do you want to quit? type quit/no quit\n"
     ]
    }
   ],
   "source": [
    "#My ToDo list, sorry I am from Hyderabad, I was unable to come. Kindly review and give remarks in video\n",
    "myToDoList={}\n",
    "exit = \"\"\n",
    "index = 1\n",
    "while exit != \"quit\":\n",
    "    options = int(input(\"Select any one of following\\n1. Add ToDo item.\\n2. Delete 1 item\\n3. Delete All\\n\"))\n",
    "    if options == 1:\n",
    "        newListItem = input(\"Enter ToDo things... \")\n",
    "        myToDoList[index]=newListItem\n",
    "        index = index+1\n",
    "        print(\"Item inserted\")\n",
    "    elif options == 2:\n",
    "        delItem = int(input(\"Enter ToDo Item Number You Want To Delete \"))\n",
    "        del myToDoList[delItem]\n",
    "        print(\"Item deleted\")\n",
    "    elif options == 3:\n",
    "        myToDoList.clear()\n",
    "        index = 1\n",
    "        print(\"All Items Deleted\")\n",
    "    else:\n",
    "        print(\"Invalid Input\")\n",
    "\n",
    "    for key, value in myToDoList.items():\n",
    "        print(str(key)+\" : \" + value)\n",
    "        \n",
    "    exit = input(\"Do you want to quit? type quit/no \")"
   ]
  },
  {
   "cell_type": "code",
   "execution_count": null,
   "metadata": {},
   "outputs": [],
   "source": []
  }
 ],
 "metadata": {
  "kernelspec": {
   "display_name": "Python 3",
   "language": "python",
   "name": "python3"
  },
  "language_info": {
   "codemirror_mode": {
    "name": "ipython",
    "version": 3
   },
   "file_extension": ".py",
   "mimetype": "text/x-python",
   "name": "python",
   "nbconvert_exporter": "python",
   "pygments_lexer": "ipython3",
   "version": "3.6.8"
  }
 },
 "nbformat": 4,
 "nbformat_minor": 2
}
