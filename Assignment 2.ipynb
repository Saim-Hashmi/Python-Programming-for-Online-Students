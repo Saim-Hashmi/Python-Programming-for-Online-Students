{
 "cells": [
  {
   "cell_type": "code",
   "execution_count": 5,
   "metadata": {},
   "outputs": [
    {
     "name": "stdout",
     "output_type": "stream",
     "text": [
      "Please Enter your 1st marks from 0 to 100? 50\n",
      "Please Enter your 2nd marks from 0 to 100? 50\n",
      "Please Enter your 3rd marks from 0 to 100? 60\n",
      "Please Enter your 4rth marks from 0 to 100? 70\n",
      "Please Enter your 5th marks from 0 to 100? 90\n",
      "64\n",
      "You got B Grade\n"
     ]
    }
   ],
   "source": [
    "marks1 = int(input(\"Please Enter your 1st marks from 0 to 100? \"))\n",
    "marks2 = int(input(\"Please Enter your 2nd marks from 0 to 100? \"))\n",
    "marks3 = int(input(\"Please Enter your 3rd marks from 0 to 100? \"))\n",
    "marks4 = int(input(\"Please Enter your 4rth marks from 0 to 100? \"))\n",
    "marks5 = int(input(\"Please Enter your 5th marks from 0 to 100? \"))\n",
    "\n",
    "marks = ((marks1 + marks2 + marks3 + marks4 + marks5)*100)//500\n",
    "#print(marks)\n",
    "if marks >=80 and marks <= 100:\n",
    "    print(\"You got A+ Grade\")\n",
    "elif marks >=70 and marks <= 79:\n",
    "    print(\"You got A Grade\")\n",
    "elif marks >=60 and marks <= 69:\n",
    "    print(\"You got B Grade\")\n",
    "elif marks >=50 and marks <= 59:\n",
    "    print(\"You got C Grade\")\n",
    "elif marks >=40 and marks < 50:\n",
    "    print(\"You got D Grade\")\n",
    "elif marks >=33 and marks < 40:\n",
    "    print(\"You got E Grade\")\n",
    "elif marks < 33 and marks >= 0:\n",
    "    print(\"You are failed\")\n",
    "else:\n",
    "    print(\"Invalid marks range\")"
   ]
  },
  {
   "cell_type": "code",
   "execution_count": 7,
   "metadata": {},
   "outputs": [
    {
     "name": "stdout",
     "output_type": "stream",
     "text": [
      "Enter Number to check Even Odd? 6\n",
      "6 is Even\n"
     ]
    }
   ],
   "source": [
    "number = int(input(\"Enter Number to check Even Odd? \"))\n",
    "if number%2 == 0:\n",
    "    print(number,\"is Even\")\n",
    "else:\n",
    "    print(number,\"is Odd\")"
   ]
  },
  {
   "cell_type": "code",
   "execution_count": 8,
   "metadata": {},
   "outputs": [
    {
     "name": "stdout",
     "output_type": "stream",
     "text": [
      "4\n"
     ]
    }
   ],
   "source": [
    "listOfStds = [\"Saim\",\"Hashmi\",\"Ali\",\"Anjali\"]\n",
    "print(len(listOfStds))"
   ]
  },
  {
   "cell_type": "code",
   "execution_count": 9,
   "metadata": {},
   "outputs": [
    {
     "name": "stdout",
     "output_type": "stream",
     "text": [
      "218\n"
     ]
    }
   ],
   "source": [
    "listOfMarks = [12,32,4,53,6,23,24,64]\n",
    "print(sum(listOfMarks))"
   ]
  },
  {
   "cell_type": "code",
   "execution_count": 10,
   "metadata": {},
   "outputs": [
    {
     "name": "stdout",
     "output_type": "stream",
     "text": [
      "64\n"
     ]
    }
   ],
   "source": [
    "listOfMarks = [12,32,4,53,6,23,24,64]\n",
    "print(max(listOfMarks))"
   ]
  },
  {
   "cell_type": "code",
   "execution_count": 12,
   "metadata": {},
   "outputs": [
    {
     "name": "stdout",
     "output_type": "stream",
     "text": [
      "1\n",
      "1\n",
      "2\n",
      "3\n"
     ]
    }
   ],
   "source": [
    "myList = [1,1,2,3,5,8,13,21,34,55,89]\n",
    "for num in myList:\n",
    "    if(num<5):\n",
    "        print(num)"
   ]
  },
  {
   "cell_type": "code",
   "execution_count": null,
   "metadata": {},
   "outputs": [],
   "source": []
  }
 ],
 "metadata": {
  "kernelspec": {
   "display_name": "Python 3",
   "language": "python",
   "name": "python3"
  },
  "language_info": {
   "codemirror_mode": {
    "name": "ipython",
    "version": 3
   },
   "file_extension": ".py",
   "mimetype": "text/x-python",
   "name": "python",
   "nbconvert_exporter": "python",
   "pygments_lexer": "ipython3",
   "version": "3.6.8"
  }
 },
 "nbformat": 4,
 "nbformat_minor": 2
}
