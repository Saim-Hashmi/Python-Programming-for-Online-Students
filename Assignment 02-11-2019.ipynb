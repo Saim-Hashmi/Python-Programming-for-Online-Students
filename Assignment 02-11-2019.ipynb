{
 "cells": [
  {
   "cell_type": "code",
   "execution_count": 2,
   "metadata": {},
   "outputs": [
    {
     "name": "stdout",
     "output_type": "stream",
     "text": [
      "Please Enter your marks from 0 to 100? 86\n",
      "You got A+ Grade\n"
     ]
    }
   ],
   "source": [
    "marks = int(input(\"Please Enter your marks from 0 to 100? \"))\n",
    "\n",
    "if marks >=80 and marks <= 100:\n",
    "    print(\"You got A+ Grade\")\n",
    "elif marks >=70 and marks <= 79:\n",
    "    print(\"You got A Grade\")\n",
    "elif marks >=60 and marks <= 69:\n",
    "    print(\"You got B Grade\")\n",
    "elif marks >=50 and marks <= 59:\n",
    "    print(\"You got C Grade\")\n",
    "elif marks >=40 and marks < 50:\n",
    "    print(\"You got D Grade\")\n",
    "elif marks >=33 and marks < 40:\n",
    "    print(\"You got E Grade\")\n",
    "elif marks < 33 and marks >= 0:\n",
    "    print(\"You are failed\")\n",
    "else:\n",
    "    print(\"Invalid marks range\")"
   ]
  }
 ],
 "metadata": {
  "kernelspec": {
   "display_name": "Python 3",
   "language": "python",
   "name": "python3"
  },
  "language_info": {
   "codemirror_mode": {
    "name": "ipython",
    "version": 3
   },
   "file_extension": ".py",
   "mimetype": "text/x-python",
   "name": "python",
   "nbconvert_exporter": "python",
   "pygments_lexer": "ipython3",
   "version": "3.6.8"
  }
 },
 "nbformat": 4,
 "nbformat_minor": 2
}
