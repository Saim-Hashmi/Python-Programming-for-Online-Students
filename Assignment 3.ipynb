{
 "cells": [
  {
   "cell_type": "code",
   "execution_count": 11,
   "metadata": {},
   "outputs": [
    {
     "name": "stdout",
     "output_type": "stream",
     "text": [
      "Enter number 1 2\n",
      "Enter number 2 3\n",
      "Enter operator + - x / ^ ^\n",
      "8\n"
     ]
    }
   ],
   "source": [
    "import numpy as np\n",
    "\n",
    "number1 = int(input(\"Enter number 1 \"))\n",
    "number2 = int(input(\"Enter number 2 \"))\n",
    "opr = input(\"Enter operator + - x / ^ \")\n",
    "\n",
    "if opr == '+':\n",
    "    print(number1+number2)\n",
    "elif opr == '-':\n",
    "    print(number1-number2)\n",
    "elif opr == 'x':\n",
    "    print(number1*number2)\n",
    "elif opr == '/':\n",
    "    print(number1/number2)\n",
    "elif opr == '^':\n",
    "    print(np.power(number1,number2))\n",
    "else:\n",
    "    print(\"invalid operator\")"
   ]
  },
  {
   "cell_type": "code",
   "execution_count": 14,
   "metadata": {},
   "outputs": [
    {
     "name": "stdout",
     "output_type": "stream",
     "text": [
      "1\n",
      "2\n",
      "4\n"
     ]
    }
   ],
   "source": [
    "mylist = [\"1\",\"2\",\"saim\",\"4\",\"test\"]\n",
    "for item in mylist:\n",
    "    if item.isdigit():\n",
    "        print(item)"
   ]
  },
  {
   "cell_type": "code",
   "execution_count": 16,
   "metadata": {},
   "outputs": [
    {
     "name": "stdout",
     "output_type": "stream",
     "text": [
      "Enter word Student\n",
      "Enter Value of word yes\n",
      "{'hello': 'world', 'Scholar': 'Saim', 'Student': 'yes'}\n"
     ]
    }
   ],
   "source": [
    "myDictionary = {\"hello\":\"world\",\"Scholar\":\"Saim\"}\n",
    "key = input(\"Enter word \")\n",
    "val = input(\"Enter Value of word \")\n",
    "myDictionary[key]=val\n",
    "print(myDictionary)"
   ]
  },
  {
   "cell_type": "code",
   "execution_count": 27,
   "metadata": {},
   "outputs": [
    {
     "data": {
      "text/plain": [
       "62"
      ]
     },
     "execution_count": 27,
     "metadata": {},
     "output_type": "execute_result"
    }
   ],
   "source": [
    "d = {'key1': 1,'key2': 14,'key3': 47}\n",
    "sum(d.values())"
   ]
  },
  {
   "cell_type": "code",
   "execution_count": 23,
   "metadata": {},
   "outputs": [
    {
     "name": "stdout",
     "output_type": "stream",
     "text": [
      "1\n",
      "2\n",
      "6\n"
     ]
    }
   ],
   "source": [
    "list_a = [1,2,3,4,5,6,7,1,2,6]\n",
    "n = len(list_a)\n",
    "for i in range(n):\n",
    "    for j in range(i+1, n):\n",
    "        if list_a[i] == list_a[j]:\n",
    "            print(list_a[i])"
   ]
  },
  {
   "cell_type": "code",
   "execution_count": 31,
   "metadata": {},
   "outputs": [
    {
     "name": "stdout",
     "output_type": "stream",
     "text": [
      "Enter key to check saim\n",
      "key does not exist\n"
     ]
    }
   ],
   "source": [
    "dict = {\"hello\":\"world\",\"Scholar\":\"Saim\"}\n",
    "check = input(\"Enter key to check \")\n",
    "if check in dict:\n",
    "      print(\"Key exist\")\n",
    "else:\n",
    "      print( \"key does not exist\")"
   ]
  },
  {
   "cell_type": "code",
   "execution_count": null,
   "metadata": {},
   "outputs": [],
   "source": []
  }
 ],
 "metadata": {
  "kernelspec": {
   "display_name": "Python 3",
   "language": "python",
   "name": "python3"
  },
  "language_info": {
   "codemirror_mode": {
    "name": "ipython",
    "version": 3
   },
   "file_extension": ".py",
   "mimetype": "text/x-python",
   "name": "python",
   "nbconvert_exporter": "python",
   "pygments_lexer": "ipython3",
   "version": "3.6.8"
  }
 },
 "nbformat": 4,
 "nbformat_minor": 2
}
